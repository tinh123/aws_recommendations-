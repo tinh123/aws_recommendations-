{
 "cells": [
  {
   "cell_type": "code",
   "execution_count": null,
   "metadata": {},
   "outputs": [],
   "source": []
  },
  {
   "cell_type": "markdown",
   "metadata": {},
   "source": [
    "# Amazon Personalized "
   ]
  },
  {
   "cell_type": "markdown",
   "metadata": {},
   "source": [
    "## What Is Amazon Personalize?\n",
    "- Amazon Personalize is a machine learning service that makes it easy for developers to add individualized recommendations to customers who use their applications.\n",
    "- You can use Amazon Personalize in a variety of scenarios, such as giving users recommendations based on their preferences and behavior, personalized re-ranking of results, and personalizing content for emails and notifications\n",
    "- You can build, train, and deploy a solution version (a trained Amazon Personalize recommendation model) with the AWS console or programmatically by using the AWS SDK:\n",
    "\n",
    "    • Format input data and upload the data into an Amazon S3 bucket, or send real-time event data.\n",
    "    \n",
    "    • Select a training recipe (algorithm) to use on the data.\n",
    "    \n",
    "    • Train a solution version using the recipe.\n",
    "    \n",
    "    • Deploy the solution version."
   ]
  },
  {
   "cell_type": "markdown",
   "metadata": {},
   "source": [
    "With Amazon Personalize you can train a solution for different use cases. For example, user\n",
    "personalization, items related to an item, and re-ranking of items. You choose a recipe based on your\n",
    "use case and provide the input data."
   ]
  },
  {
   "cell_type": "markdown",
   "metadata": {},
   "source": [
    "## How It Works\n",
    "- To make recommendations, Amazon Personalize uses a machine learning model that is trained with your data. The data used to train the model is stored in related datasets in a dataset group. Each model is trained by using a recipe that contains an algorithm for a specific use case. In Amazon Personalize, a trained model is known as a solution version.\n",
    "- A solution version is deployed for use in a campaign. Users of your applications can receive recommendations through the campaign.\n",
    "- A dataset can grow over time and your models can be retrained on the new data. The data can come from new metadata and the consumption of real-time user event data\n",
    "\n",
    "Amazon Personalize consists of three related components:\n",
    "\n",
    "    • Amazon Personalize – Use this to create, manage, and deploy solution versions.\n",
    "\n",
    "    • Amazon Personalize Events – Use this to record user events to add to your training data.\n",
    "    \n",
    "    • Amazon Personalize Runtime – Use this to get recommendations from a campaign (deployed solution\n",
    "version). "
   ]
  },
  {
   "cell_type": "markdown",
   "metadata": {},
   "source": [
    "## Amazon Personalize Workflow\n",
    "The workflow for training, deploying, and getting recommendations from a campaign is:\n",
    "    1. Create related datasets and a dataset group.\n",
    "    2. Get training data.\n",
    "        • Import historical data to the dataset group.\n",
    "        • Record user events to the dataset group.\n",
    "    3. Create a solution version (trained model) using a recipe.\n",
    "    4. Evaluate the solution version using metrics.\n",
    "    5. Create a campaign (deploy the solution version).\n",
    "    6. Provide recommendations for users"
   ]
  },
  {
   "cell_type": "markdown",
   "metadata": {},
   "source": [
    "## Datasets and Dataset Groups\n",
    "- A dataset group contains related datasets. Three types of historical datasets are created by the customer (users, items, and interactions), and one type is created by Amazon Personalize for live-event interactions. A dataset group can contain only one of each kind of dataset.\n",
    "- Historical data must be provided in a CSV file. Each dataset type has a unique schema that specifies the contents of the CSV file.\n"
   ]
  },
  {
   "cell_type": "markdown",
   "metadata": {},
   "source": [
    "## User Events\n",
    "- Amazon Personalize can consume real time user event data to be used for model training either alone or combined with historical data.\n"
   ]
  },
  {
   "cell_type": "markdown",
   "metadata": {},
   "source": [
    "## Recipes and Solutions\n",
    "- A trained model is known as a solution version. The model is trained using a recipe. \n",
    "- The recipes available in Amazon Personalize are made of an algorithm and the data processing steps that optimize a solution for a certain type of recommendation based on your input data.\n",
    "- Amazon Personalize can automatically choose the most appropriate recipe based on its analysis of the training data. Alternatively, you can choose which recipe to train the model with. Each recipe has its own use case and you should choose recipe that best fits your needs.\n",
    "- Each time you train a model, it is assigned a new solution version. Use the solution version ARN to identify which version of the solution you want to use for your campaign."
   ]
  },
  {
   "cell_type": "markdown",
   "metadata": {},
   "source": [
    "#### Predefined Recipes\n",
    "Amazon Personalize provides the following predefined recipes. They are listed by recipe type.\n",
    "##### 1. USER_PERSONALIZATION Recipes:\n",
    "    - HRNN Recipe:\n",
    "        The Amazon Personalize hierarchical recurrent neural network (HRNN) recipe models changes in user behavior to provide recommendations during a session. A session is a set of user interactions within a given timeframe with a goal of finding a specific item to fill a need.\n",
    "        \n",
    "        The HRNN recipe has the following properties:\n",
    "           • Name – aws-hrnn\n",
    "           • Recipe Amazon Resource Name (ARN) – arn:aws:personalize:::recipe/aws-hrnn\n",
    "           • Algorithm ARN – arn:aws:personalize:::algorithm/aws-hrnn\n",
    "           • Feature transformation ARN – arn:aws:personalize:::feature-transformation/JSONpercentile-filtering\n",
    "           • Recipe type – USER_PERSONALIZATION\n",
    "\n",
    "         HRNN samples notebook: https://github.com/aws-samples/amazon-personalize-samples/blob/master/personalize_temporal_holdout/personalize_temporal_holdout.ipynb\n",
    "\n",
    "    - HRNN-Metadata Recipe:\n",
    "        \n",
    "        The HRNN-Metadata recipe predicts the items that a user will interact with. It is similar to the         HRNN recipe, with additional features derived from contextual, user, and item metadata (from Interactions, Users, and Items datasets, respectively). HRNN-Metadata provides accuracy benefits over non-metadata models when high quality metadata is available. Using this recipe might require longer training times.\n",
    "        \n",
    "        The HRNN-Metadata recipe has the following properties:\n",
    "            • Name – aws-hrnn-metadata\n",
    "            • Recipe Amazon Resource Name (ARN) – arn:aws:personalize:::recipe/aws-hrnn-metadata\n",
    "            • Algorithm ARN – arn:aws:personalize:::algorithm/aws-hrnn-metadata\n",
    "            • Feature transformation ARN – arn:aws:personalize:::feature-transformation/featurize_metadata\n",
    "            • Recipe type – USER_PERSONALIZATION\n",
    "      \n",
    "    - HRNN-Coldstart Recipe\n",
    "         \n",
    "         Use the HRNN-Coldstart recipe to predicts the items that a user will interact with when you frequently add new items and interactions and want to get recommendations for those items immediately. The HRNN-Coldstart recipe is similar to the HRNN-Metadata (p. 56) recipe, but it allows you to get recommendations for new items.\n",
    "         \n",
    "         In addition, you can use the HRNN-Coldstart recipe when you want to exclude from training items that have a long list of interactions either because of a recent popularity trend or because the interactions might be highly unusual and introduce noise in training. With HRNN-Coldstart, you can filter out less relevant items to create a subset for training.\n",
    "         \n",
    "         The HRNN-Coldstart recipe has the following properties:\n",
    "            • Name – aws-hrnn-coldstart\n",
    "            • Recipe Amazon Resource Name (ARN) – arn:aws:personalize:::recipe/aws-hrnncoldstart\n",
    "            • Algorithm ARN – arn:aws:personalize:::algorithm/aws-hrnn-coldstart\n",
    "            • Feature transformation ARN – arn:aws:personalize:::feature-transformation/featurize_coldstart\n",
    "            • Recipe type – USER_PERSONALIZATION\n",
    "         Sample notebook: https://github.com/aws-samples/amazon-personalize-samples/blob/master/personalize_temporal_holdout/personalize_coldstart_demo.ipynb\n",
    "##### 2. Personalized-Ranking Recipe\n",
    "   - The Personalized-Ranking recipe generates personalized rankings. A personalized ranking is a list of recommended items that are re-ranked for a specific user. \n",
    "   \n",
    "   This recipe has the following properties:\n",
    "        \n",
    "        • Name – aws-personalized-ranking\n",
    "        • Recipe Amazon Resource Name (ARN) – arn:aws:personalize:::recipe/aws-personalizedranking\n",
    "        • Algorithm ARN – arn:aws:personalize:::algorithm/aws-personalized-ranking\n",
    "        • Feature transformation ARN – arn:aws:personalize:::feature-transformation/JSONpercentile-filtering\n",
    "        • Recipe type – PERSONALIZED_RANKING\n",
    "\n",
    "##### 3. SIMS Recipe\n",
    "    The Item-to-item similarities (SIMS) recipe is based on the concept of collaborative filtering. A SIMS model leverages user-item interaction data to recommend items similar to a given item. In the absence of sufficient user behavior data for an item, this recipe recommends popular items.\n",
    "    \n",
    "    This predefined recipe has the following properties:\n",
    "    \n",
    "        • Name – aws-sims\n",
    "        • Recipe Amazon Resource Name (ARN) – arn:aws:personalize:::recipe/aws-sims\n",
    "        • Algorithm ARN – arn:aws:personalize:::algorithm/aws-sims\n",
    "        • Feature transformation ARN – arn:aws:personalize:::feature-transformation/sims\n",
    "        • Recipe type – RELATED_ITEMS"
   ]
  },
  {
   "cell_type": "markdown",
   "metadata": {},
   "source": [
    "## Metrics\n",
    "- After you have created your solution version, you evaluate the metrics that were created during training.The metrics give an indication of the solution version's performance.\n",
    "- You can call the GetSolutionMetrics API. Typically, you train your model with multiple recipes and use the recipe that results in the metrics that show the best performance. After you have created a solution version based on your chosen recipe, the solution version is ready for deployment as a campaign."
   ]
  },
  {
   "cell_type": "markdown",
   "metadata": {},
   "source": [
    "## Campaigns\n",
    "- A deployed solution version is known as a campaign. A campaign allows Amazon Personalize to make recommendations for your users.\n",
    "- To deploy a solution version, you create a campaign in the console or by calling the CreateCampaign API."
   ]
  },
  {
   "cell_type": "markdown",
   "metadata": {},
   "source": [
    "## Recommendations\n",
    "- After you create a campaign, you are able to get two different types of recommendations, depending on the recipe type that was used to train the model.\n",
    "- For user-personalization and related-items recipes, the GetRecommendations API returns a list of recommended items."
   ]
  },
  {
   "cell_type": "markdown",
   "metadata": {},
   "source": [
    "## Getting Started (AWS SDK for Python) \n",
    "Prerequisites:\n",
    "- The following steps are prerequisites for the getting started exercises.\n",
    "    - Create an AWS account and an AWS Identity and Access Management user, as specified in Sign Up for\n",
    "AWS.\n",
    "    - Ensure the IAM user that you are using has the Required Permissions.\n",
    "    - Create an AWS Identity and Access Management (IAM) service role, as specified in Creating an IAM\n",
    "Role. Use the role ARN when you upload the movie training data.\n",
    "    - Prepare your training data and upload the data to your Amazon S3 bucket, as specified in Create the\n",
    "Training Data. Use the name of the Amazon S3 bucket when you upload the movie training\n",
    "data."
   ]
  },
  {
   "cell_type": "markdown",
   "metadata": {},
   "source": [
    "### Step 1: Verify Your Python Environment"
   ]
  },
  {
   "cell_type": "code",
   "execution_count": 1,
   "metadata": {},
   "outputs": [],
   "source": [
    "import boto3\n",
    "personalize = boto3.client('personalize', region_name=\"ap-southeast-1\")\n",
    "response = personalize.list_recipes()\n",
    "for recipe in response['recipes']:\n",
    "     print(recipe)"
   ]
  },
  {
   "cell_type": "markdown",
   "metadata": {},
   "source": [
    "### Step 2: Import Training Data"
   ]
  },
  {
   "cell_type": "markdown",
   "metadata": {},
   "source": [
    " Add a schema. The schema allows Amazon Personalize to parse the training dataset.\n",
    "    1. Define the Avro format schema that you want to use.\n",
    "    2. Save the schema in a JSON file in the default Python folder.\n",
    "    3. Create the schema using the following code.\n",
    "    4. Amazon Personalize returns the ARN of the new schema. Store it for later use."
   ]
  },
  {
   "cell_type": "code",
   "execution_count": null,
   "metadata": {},
   "outputs": [],
   "source": [
    "import boto3\n",
    "personalize = boto3.client('personalize')\n",
    "with open('schema.json') as f:\n",
    "     createSchemaResponse = personalize.create_schema(name = 'YourSchema', schema = f.read())\n",
    "schema_arn = createSchemaResponse['schemaArn']\n",
    "print('Schema ARN:', schema_arn )"
   ]
  },
  {
   "cell_type": "markdown",
   "metadata": {},
   "source": [
    "Import Your Data Using the AWS Python SDK\n",
    "1. Create a dataset group using the CreateDatasetGroup API."
   ]
  },
  {
   "cell_type": "code",
   "execution_count": null,
   "metadata": {},
   "outputs": [],
   "source": [
    "import boto3\n",
    "personalize = boto3.client('personalize')\n",
    "response = personalize.create_dataset_group(name = 'YourDatasetGroup')\n",
    "dsg_arn = response['datasetGroupArn']\n",
    "description = personalize.describe_dataset_group(datasetGroupArn = dsg_arn)['datasetGroup']\n",
    "print('Name: ', description['name'])\n",
    "print('ARN: ', description['datasetGroupArn']"
   ]
  },
  {
   "cell_type": "markdown",
   "metadata": {},
   "source": [
    "The response from the DescribeDatasetGroup API returns the datasetGroupArn and the\n",
    "status of the operation.\n",
    "\n",
    "*Note: \n",
    "You must wait until the status shows as ACTIVE before you can proceed to the next step."
   ]
  },
  {
   "cell_type": "markdown",
   "metadata": {},
   "source": [
    "2. Create a dataset using the CreateDataset API. Specify the datasetGroupArn returned in the previous step. Use the schemaArn created earlier"
   ]
  },
  {
   "cell_type": "code",
   "execution_count": null,
   "metadata": {},
   "outputs": [],
   "source": [
    "import boto3\n",
    "personalize = boto3.client('personalize')\n",
    "response = personalize.create_dataset(name = 'YourDataset', \n",
    "                                      schemaArn = 'schema_arn', \n",
    "                                      datasetGroupArn = 'dataset_group_arn',\n",
    "                                      datasetType = 'Interactions')\n",
    "print ('Dataset Arn: ', response['datasetArn'])"
   ]
  },
  {
   "cell_type": "markdown",
   "metadata": {},
   "source": [
    "3. To add data to your dataset, create and run a dataset import job using the CreateDatasetImportJob API. Specify the datasetGroupArn and set the dataLocation to the S3 bucket where you stored the training data.\n",
    "\n",
    "Note:\n",
    "    - For the roleArn, see Creating an IAM Role. The roleArn parameter specifies the AWS Identity and Access Management (IAM) role that gives Amazon Personalize permissions to access your S3 bucket."
   ]
  },
  {
   "cell_type": "code",
   "execution_count": null,
   "metadata": {},
   "outputs": [],
   "source": [
    "import boto3\n",
    "personalize = boto3.client('personalize')\n",
    "response = personalize.create_dataset_import_job(jobName = 'YourImportJob',\n",
    "                                                 datasetArn = 'dataset_arn',\n",
    "                                                 dataSource = {'dataLocation':'s3://bucket/file.csv'},\n",
    "                                                 roleArn = 'role_arn')\n",
    "dsij_arn = response['datasetImportJobArn']\n",
    "print ('Dataset Import Job arn: ', dsij_arn)\n",
    "description = personalize.describe_dataset_import_job( datasetImportJobArn = dsij_arn)['datasetImportJob']\n",
    "print('Name: ', description['jobName'])\n",
    "print('ARN: ', description['datasetImportJobArn'])\n",
    "print('Status: ', description['status'])"
   ]
  },
  {
   "cell_type": "markdown",
   "metadata": {},
   "source": [
    "Note:\n",
    "- You must wait until the status changes to ACTIVE before you can use the data to train a model.\n",
    "\n",
    "Important:\n",
    "- Imports in Amazon Personalize are a full refresh of the data. You can't add incremental updates. If you need to update your data, import the complete updated file."
   ]
  },
  {
   "cell_type": "markdown",
   "metadata": {},
   "source": [
    "### Step 3: Create a Solution"
   ]
  },
  {
   "cell_type": "code",
   "execution_count": null,
   "metadata": {},
   "outputs": [],
   "source": [
    "import boto3\n",
    "personalize = boto3.client('personalize')\n",
    "print ('Creating solution')\n",
    "response = personalize.create_solution(name = \"SolutionName\", \n",
    "                                       datasetGroupArn = \"Dataset group arn\",\n",
    "                                       performAutoML = True)\n",
    "# Get the solution ARN.\n",
    "solution_arn = response['solutionArn']\n",
    "print('Solution ARN: ', solution_arn)\n",
    "# Use the solution ARN to get the solution status.\n",
    "solution_description = personalize.describe_solution(solutionArn = solution_arn)['solution']\n",
    "print('Solution status: ', solution_description['status'])\n",
    "# Use the solution ARN to create a solution version.\n",
    "print ('Creating solution version')\n",
    "response = personalize.create_solution_version(solutionArn = solution_arn)\n",
    "solution_version_arn = response['solutionVersionArn']\n",
    "print('Solution version ARN: ', solution_version_arn)\n",
    "# Use the solution version ARN to get the solution version status.\n",
    "solution_version_description = personalize.describe_solution_version(solutionVersionArn = solution_version_arn)['solutionVersion']\n",
    "print('Solution version status: ', solution_version_description['status'])"
   ]
  },
  {
   "cell_type": "markdown",
   "metadata": {},
   "source": [
    "#### Evaluating a Solution Version"
   ]
  },
  {
   "cell_type": "markdown",
   "metadata": {},
   "source": [
    "##### Metrics \n",
    "- You retrieve the metrics for a specific solution version by calling the GetSolutionMetrics operation.\n",
    "\n",
    "Retrieve metrics using the AWS Python SDK\n",
    "\n",
    "1. Use the following code to retrieve metrics."
   ]
  },
  {
   "cell_type": "code",
   "execution_count": null,
   "metadata": {},
   "outputs": [],
   "source": [
    "import boto3\n",
    "personalize = boto3.client('personalize')\n",
    "response = personalize.get_solution_metrics(\n",
    " solutionVersionArn = 'solution version arn')\n",
    "print(response['metrics'])"
   ]
  },
  {
   "cell_type": "markdown",
   "metadata": {},
   "source": [
    "For each metric, higher numbers are better.\n",
    "- coverage\n",
    "    - The proportion of unique recommended items from all queries out of the total number of unique items in the training data (includes both the Items and Interactions datasets).\n",
    "- mean_reciprocal_rank_at_25\n",
    "    - The mean of the reciprocal ranks of the first relevant recommendation out of the top 25 recommendations over all queries. This metric is appropriate if you're interested in the single highest ranked recommendation.\n",
    "- normalized_discounted_cumulative_gain_at_K\n",
    "    - Discounted gain assumes that recommendations lower on a list of recommendations are less relevant than higher recommendations. Therefore, each recommendation is discounted (given a lower weight) by a factor dependent on its position. To produce the cumulative discounted gain (DCG) at K, each relevant discounted recommendation in the top K recommendations is summed together. The normalized discounted cumulative gain (NDCG) is the DCG divided by the ideal DCG such that NDCG is between 0 - 1. (The ideal DCG is where the top K recommendations are sorted by relevance.) Amazon Personalize uses a weighting factor of 1/log(1 + position), where the top of the list is position 1. This metric rewards relevant items that appear near the top of the list, because the top of a list usually draws more attention.\n",
    "- precision_at_K\n",
    "    - The number of relevant recommendations out of the top K recommendations divided by K.\n",
    "    - This metric rewards precise recommendation of the relevant items."
   ]
  },
  {
   "cell_type": "markdown",
   "metadata": {},
   "source": [
    "### Step 4: Create a Campaign\n",
    "After you train and evaluate your solution version, you can deploy it using a campaign. A campaign is an\n",
    "endpoint used to host a solution version and make recommendations to users.\n",
    "To create a campaign with the SDK, call the CreateCampaign API and pass the following:\n",
    "\n",
    "    • A name for the campaign.\n",
    "    • The Amazon Resource Name (ARN) of the solution version to deploy.\n",
    "    • The minimum provisioned transactions per second (minProvisionedTPS) that Amazon Personalize will support.\n",
    "    \n",
    "Create a campaign using the AWS Python SDK\n",
    "1. Create a solution version to deploy. \n",
    "2. Use the following code to create a campaign"
   ]
  },
  {
   "cell_type": "code",
   "execution_count": null,
   "metadata": {},
   "outputs": [],
   "source": [
    "import boto3\n",
    "personalize = boto3.client('personalize')\n",
    "response = personalize.create_campaign(\n",
    " name = 'campaign name',\n",
    " solutionVersionArn = 'solution version arn',\n",
    " minProvisionedTPS = 10)\n",
    "arn = response['campaignArn']\n",
    "description = personalize.describe_campaign(campaignArn = arn)['campaign']\n",
    "print('Name: ', description['name'])\n",
    "print('ARN: ', description['campaignArn'])"
   ]
  },
  {
   "cell_type": "markdown",
   "metadata": {},
   "source": [
    "The campaign isn't ready for use until its status is active. To get the current status, call\n",
    "DescribeCampaign and check that the status field is ACTIVE."
   ]
  },
  {
   "cell_type": "markdown",
   "metadata": {},
   "source": [
    "### Step 5: Get Recommendations\n",
    "After you create a campaign, you can use it to get recommendations.\n",
    "- To get recommendations, call the GetRecommendations API. Supply either the user ID or item\n",
    "ID, dependent on the recipe type used to create the solution the campaign is based on.\n",
    "\n",
    "Note:\n",
    "\n",
    "   - The solution backing the campaign must have been created using a recipe of type USER_PERSONALIZATION or RELATED_ITEMS. For more information, see Using Predefined Recipes.\n",
    "\n",
    "Get recommendations using the AWS Python SDK:\n",
    "\n",
    "   - Use the following code to get a recommendation. Change the value of userId to a user ID that is in the data you used to train the solution. A list of recommended items for the user is displayed"
   ]
  },
  {
   "cell_type": "code",
   "execution_count": null,
   "metadata": {},
   "outputs": [],
   "source": [
    "import boto3\n",
    "personalizeRt = boto3.client('personalize-runtime')\n",
    "response = personalizeRt.get_recommendations(campaignArn = \"Campaign ARN\", userId = 'User ID')\n",
    "print(\"Recommended items\")\n",
    "for item in response['itemList']:\n",
    "    print(item['itemId'])"
   ]
  },
  {
   "cell_type": "markdown",
   "metadata": {},
   "source": [
    "Get Personalized Rankings:\n",
    "\n",
    "   - A personalized ranking is a list of recommended items that are re-ranked for a specific user. To get personalized rankings, call the GetPersonalizedRanking API. \n",
    "Note:\n",
    "\n",
    "   - The solution backing the campaign must have been created using a recipe of type PERSONALIZED_RANKING. For more information, see Using Predefined Recipes.\n",
    "   \n",
    "Change the value of userId and inputList to a user ID and list of item IDs that are in the data you used to train the solution. A list of ranked recommendations is displayed. The first item in the list is considered by Amazon Personalize to be of most interest to the user."
   ]
  },
  {
   "cell_type": "code",
   "execution_count": null,
   "metadata": {},
   "outputs": [],
   "source": [
    "import boto3\n",
    "personalizeRt = boto3.client('personalize-runtime')\n",
    "response = personalizeRt.get_personalized_ranking(campaignArn = \"Campaign arn\", userId = 'UserID', inputList = ['ItemID1','ItemID2'])\n",
    "print(\"Personalized Ranking\")\n",
    "for item in response['personalizedRanking']:\n",
    "    print(item['itemId'])"
   ]
  },
  {
   "cell_type": "markdown",
   "metadata": {},
   "source": [
    "Getting Batch Recommendations (AWS Python SDK):\n",
    "\n",
    "The operation reads an input JSON file from an Amazon S3 bucket and places an output JSON file (input-file-name.out) in an Amazon S3 bucket.\n",
    "The first item in the response file is considered by Amazon Personalize to be of most interest to the user."
   ]
  },
  {
   "cell_type": "code",
   "execution_count": null,
   "metadata": {},
   "outputs": [],
   "source": [
    "import boto3\n",
    "personalize_rec = boto3.client(service_name='personalize')\n",
    "personalize_rec.create_batch_inference_job (solutionVersionArn = \"Solution version ARN\",\n",
    "                                            jobName = \"Batch job name\",\n",
    "                                            roleArn = \"IAM role ARN\",\n",
    "                                            jobInput =  {\"s3DataSource\": {\"path\": S3 input path}},\n",
    "                                            jobOutput = {\"s3DataDestination\": {\"path\":S3 output path}}\n",
    "                                            )"
   ]
  },
  {
   "attachments": {
    "image.png": {
     "image/png": "[encoded data removed]"
    }
   },
   "cell_type": "markdown",
   "metadata": {},
   "source": [
    "Examples:\n",
    "![image.png](attachment:image.png)"
   ]
  },
  {
   "cell_type": "code",
   "execution_count": null,
   "metadata": {},
   "outputs": [],
   "source": []
  },
  {
   "cell_type": "code",
   "execution_count": null,
   "metadata": {},
   "outputs": [],
   "source": []
  },
  {
   "cell_type": "code",
   "execution_count": null,
   "metadata": {},
   "outputs": [],
   "source": []
  },
  {
   "cell_type": "code",
   "execution_count": null,
   "metadata": {},
   "outputs": [],
   "source": []
  }
 ],
 "metadata": {
  "kernelspec": {
   "display_name": "Python 3",
   "language": "python",
   "name": "python3"
  },
  "language_info": {
   "codemirror_mode": {
    "name": "ipython",
    "version": 3
   },
   "file_extension": ".py",
   "mimetype": "text/x-python",
   "name": "python",
   "nbconvert_exporter": "python",
   "pygments_lexer": "ipython3",
   "version": "3.6.9"
  }
 },
 "nbformat": 4,
 "nbformat_minor": 2
}
